{
 "cells": [
  {
   "cell_type": "code",
   "execution_count": null,
   "metadata": {},
   "outputs": [],
   "source": [
    "from pyspark.sql import SparkSession, types as T, functions as F, window as W\n",
    "from pyspark.context import SparkConf\n",
    "\n",
    "conf = (\n",
    "    SparkConf()\n",
    "    .setAppName(\"exploration\")\n",
    "    .setMaster(\"local[*]\")\n",
    "    .set(\"spark.executor.memory\", \"8g\")\n",
    "    .set(\"spark.driver.memory\", \"8g\")\n",
    "    .set(\"spark.driver.maxResultSize\", \"4g\")\n",
    "    .set(\"spark.sql.execution.arrow.pyspark.enabled\", \"true\")\n",
    ")\n",
    "spark = SparkSession.builder.config(conf=conf).getOrCreate()"
   ]
  },
  {
   "cell_type": "markdown",
   "metadata": {},
   "source": [
    "# Read the data"
   ]
  },
  {
   "cell_type": "code",
   "execution_count": null,
   "metadata": {},
   "outputs": [],
   "source": [
    "# Dataset needs to be downloaded first\n",
    "\n",
    "schema = T.StructType([\n",
    "    T.StructField(\"user_id\", T.StringType(), True),\n",
    "    T.StructField(\"timestamp\", T.TimestampType(), True),\n",
    "    T.StructField(\"artist_id\", T.StringType(), True),\n",
    "    T.StructField(\"artist_name\", T.StringType(), True),\n",
    "    T.StructField(\"track_id\", T.StringType(), True),\n",
    "    T.StructField(\"track_name\", T.StringType(), True),\n",
    "])\n",
    "\n",
    "df = spark.read.csv(\n",
    "    \"lastfm-dataset-1K/userid-timestamp-artid-artname-traid-traname.tsv\",\n",
    "    sep=\"\\t\",\n",
    "    header=False,\n",
    "    schema=schema,\n",
    ")\n",
    "df.createOrReplaceTempView(\"plays_raw\")\n",
    "df.show(vertical=False, truncate=True, n=5)\n"
   ]
  },
  {
   "cell_type": "markdown",
   "metadata": {},
   "source": [
    "# Pyspark DataFrames"
   ]
  },
  {
   "cell_type": "code",
   "execution_count": null,
   "metadata": {},
   "outputs": [],
   "source": [
    "# What are the top 10 songs played in the top 50 longest sessions by tracks count?\n",
    "w1 = W.Window.partitionBy(\"user_id\").orderBy(\"timestamp\")\n",
    "\n",
    "plays_df = (\n",
    "    df\n",
    "    .select(\n",
    "        '*',\n",
    "        (F.col('timestamp').cast('long') - F.lag('timestamp').over(w1).cast('long')).alias('inactive_time'),\n",
    "    )\n",
    "    .select(\n",
    "        *df.columns,\n",
    "        F.sum(F.when(F.col('inactive_time') > 1200, 1).otherwise(0)).over(w1).alias('session_id'),\n",
    "    )\n",
    ")\n",
    "\n",
    "sessions_df = (\n",
    "    plays_df\n",
    "    .groupBy('user_id', 'session_id')\n",
    "    .agg(\n",
    "        (F.max('timestamp') - F.min('timestamp')).cast('long').alias('session_duration'),\n",
    "    )\n",
    "    .orderBy(F.col('session_duration').desc())\n",
    "    .limit(50)\n",
    ")\n",
    "\n",
    "top10 = (\n",
    "    sessions_df.join(plays_df, on=['user_id', 'session_id'], how=\"inner\")\n",
    "    .groupBy('track_id')\n",
    "    .agg(F.count('track_id').alias('count'))\n",
    "    .orderBy(F.col('count').desc())\n",
    "    .limit(10)\n",
    ")\n",
    "top10.show(vertical=False, truncate=True, n=10)"
   ]
  },
  {
   "cell_type": "markdown",
   "metadata": {},
   "source": [
    "# Spark SQL"
   ]
  },
  {
   "cell_type": "code",
   "execution_count": null,
   "metadata": {},
   "outputs": [],
   "source": [
    "# What are the top 10 songs played in the top 50 longest sessions by tracks count?\n",
    "top10 = spark.sql(\"\"\"\n",
    "    with plays_raw_extended as (\n",
    "        select\n",
    "            *,\n",
    "            cast(timestamp as long) - cast(lag(timestamp) over (partition by user_id order by timestamp) as long) as inactive_time\n",
    "        from plays_raw\n",
    "    ),\n",
    "    plays as (\n",
    "        select\n",
    "            *,\n",
    "            sum(case when inactive_time > 20*60 then 1 else 0 end) over (partition by user_id order by timestamp rows between unbounded preceding and current row) session_id\n",
    "        from plays_raw_extended\n",
    "    ),\n",
    "    sessions as (  \n",
    "        select\n",
    "            user_id,\n",
    "            session_id,\n",
    "            cast(max(timestamp) - min(timestamp) as long) as session_duration\n",
    "        from plays\n",
    "        group by user_id, session_id\n",
    "    ),\n",
    "    top_50_sessions as (\n",
    "        select\n",
    "            *\n",
    "        from sessions\n",
    "        order by session_duration desc\n",
    "        limit 50\n",
    "    ),\n",
    "    top_10_tracks as (\n",
    "        select\n",
    "            track_id,\n",
    "            count(track_id) as plays\n",
    "        from plays p join top_50_sessions s on p.user_id=s.user_id and p.session_id=s.session_id\n",
    "        group by track_id\n",
    "        order by plays desc\n",
    "        limit 10\n",
    "    )\n",
    "    \n",
    "    select * from top_10_tracks\n",
    "    order by plays desc\n",
    "\n",
    "\"\"\")\n",
    "top10.show(n=10)"
   ]
  }
 ],
 "metadata": {
  "kernelspec": {
   "display_name": "Python 3.8.5 64-bit ('3.8.5')",
   "language": "python",
   "name": "python3"
  },
  "language_info": {
   "codemirror_mode": {
    "name": "ipython",
    "version": 3
   },
   "file_extension": ".py",
   "mimetype": "text/x-python",
   "name": "python",
   "nbconvert_exporter": "python",
   "pygments_lexer": "ipython3",
   "version": "3.8.5"
  },
  "orig_nbformat": 4,
  "vscode": {
   "interpreter": {
    "hash": "785a92088d0aef0fd458db8eef44e92beef0c50b21c0b1b282ef287a6094c02b"
   }
  }
 },
 "nbformat": 4,
 "nbformat_minor": 2
}
